{
 "cells": [
  {
   "cell_type": "markdown",
   "id": "2dd67b7b-b151-49b1-955e-dd7627677a4e",
   "metadata": {},
   "source": [
    "# TYPE_60_해외주식형"
   ]
  },
  {
   "cell_type": "markdown",
   "id": "b3e20237-dc40-4627-a953-52539fea6148",
   "metadata": {},
   "source": [
    "## 1. Packages"
   ]
  },
  {
   "cell_type": "code",
   "execution_count": null,
   "id": "103faeb9-9c7b-46f1-8ddb-e8e438626b60",
   "metadata": {},
   "outputs": [],
   "source": [
    "%matplotlib inline"
   ]
  },
  {
   "cell_type": "code",
   "execution_count": null,
   "id": "2ead0865-2adf-4384-9e33-e05ad2246056",
   "metadata": {},
   "outputs": [],
   "source": [
    "import numpy as np\n",
    "import pandas as pd\n",
    "import seaborn as sns\n",
    "from tqdm import trange\n",
    "import unicodedata"
   ]
  },
  {
   "cell_type": "markdown",
   "id": "18ed0900-67c8-4970-88ae-88c05efb04be",
   "metadata": {},
   "source": [
    "## 2. Type"
   ]
  },
  {
   "cell_type": "code",
   "execution_count": null,
   "id": "9613fca5-40ff-41c8-a061-d9c23223c365",
   "metadata": {},
   "outputs": [],
   "source": [
    "fname = \"TYPE_60_해외주식형.csv\"\n",
    "typename = unicodedata.normalize('NFC', fname.replace(\".csv\", \"\")[8:])"
   ]
  },
  {
   "cell_type": "markdown",
   "id": "3a02a33b-ddc6-446a-88c3-37887ffe4768",
   "metadata": {},
   "source": [
    "## 3. Import Data"
   ]
  },
  {
   "cell_type": "code",
   "execution_count": null,
   "id": "a4260092-7f8c-48a7-a523-7b72bc350181",
   "metadata": {},
   "outputs": [],
   "source": [
    "df_all = pd.read_csv(fname, names=[\"date\", \"code\", \"nav\"], usecols=[0, 1, 2], parse_dates=[0])\n",
    "list_code = list(df_all[\"code\"].unique())\n",
    "print(f\"Number of Funds = {len(list_code)}\")"
   ]
  },
  {
   "cell_type": "markdown",
   "id": "b573bb8f-bba6-4098-8060-ca8f3136f2b1",
   "metadata": {},
   "source": [
    "## 4. Calculate Risk"
   ]
  },
  {
   "cell_type": "code",
   "execution_count": null,
   "id": "a6cc3475-204e-417d-ac8f-67c33c944c4e",
   "metadata": {},
   "outputs": [],
   "source": [
    "%%time\n",
    "\n",
    "def calc_std_y(code):\n",
    "    df = df_all[df_all[\"code\"] == code][[\"date\", \"nav\"]]\n",
    "    df = df.sort_values(by=\"date\")\n",
    "    df = df.set_index(\"date\")\n",
    "  \n",
    "    df_1y = df.last(\"1Y\")\n",
    "    df_1y_w = df_1y.resample(\"W\").last()\n",
    "\n",
    "    df_3y = df.last(\"3Y\")\n",
    "    df_3y_w = df_3y.resample(\"W\").last()\n",
    "    \n",
    "    df_3y_w[\"ret\"] = df_3y_w[\"nav\"].pct_change()\n",
    "    df_3y_w = df_3y_w.iloc[1:]\n",
    "    std_3y = df_3y_w[\"ret\"].std() * np.sqrt(52)\n",
    "    \n",
    "    df_1y_w[\"ret\"] = df_1y_w[\"nav\"].pct_change()\n",
    "    df_1y_w = df_1y_w.iloc[1:]\n",
    "    std_1y = df_1y_w[\"ret\"].std() * np.sqrt(52)\n",
    "    \n",
    "    var_3y = -np.minimum(df_3y_w[\"ret\"].quantile(0.025), 0) * np.sqrt(52)\n",
    "    \n",
    "    return std_3y, std_1y, var_3y\n",
    "\n",
    "\n",
    "list_std_y = []\n",
    "for i in trange(len(list_code)):\n",
    "    code = list_code[i]\n",
    "    list_std_y.append(calc_std_y(code))"
   ]
  },
  {
   "cell_type": "code",
   "execution_count": null,
   "id": "e0aa081c-7f0d-4f1b-ae74-00a27747aaa5",
   "metadata": {},
   "outputs": [],
   "source": [
    "list_std_3y, list_std_1y, list_var_3y = zip(*list_std_y)\n",
    "\n",
    "df_result = pd.DataFrame({\n",
    "    \"code\": list_code, \n",
    "    \"std_3y\": list_std_3y,\n",
    "    \"std_1y\": list_std_1y,\n",
    "    \"var_3y\": list_var_3y,\n",
    "})\n",
    "\n",
    "bins = [0, 0.005, 0.05, 0.10, 0.15, 0.25, float(\"inf\")]\n",
    "labels = [\"6등급\", \"5등급\", \"4등급\", \"3등급\", \"2등급\", \"1등급\"]\n",
    "\n",
    "df_result[\"risk_std_3y\"] = pd.cut(df_result.std_3y, bins=bins, labels=labels)\n",
    "df_result[\"risk_std_1y\"] = pd.cut(df_result.std_1y, bins=bins, labels=labels)\n",
    "df_result[\"risk_var_3y\"] = pd.cut(df_result.var_3y, bins=bins, labels=labels)\n",
    "\n",
    "df_result = df_result.dropna()"
   ]
  },
  {
   "cell_type": "code",
   "execution_count": null,
   "id": "c3e75562-b9ea-4c95-9a11-004be639146b",
   "metadata": {},
   "outputs": [],
   "source": [
    "df_result"
   ]
  },
  {
   "cell_type": "markdown",
   "id": "7093a90e-9367-40e8-bb58-fc375b2c7f0d",
   "metadata": {},
   "source": [
    "## 5. Export Result"
   ]
  },
  {
   "cell_type": "code",
   "execution_count": null,
   "id": "7d74f1a2-a5b2-4b5a-b1e4-7356deb7fb2c",
   "metadata": {},
   "outputs": [],
   "source": [
    "df_result.to_csv(\"RESULT_\" + fname)"
   ]
  },
  {
   "cell_type": "markdown",
   "id": "2ed08a3d-eb09-4f1f-83a5-987be9b9d584",
   "metadata": {},
   "source": [
    "## 6. Visualization"
   ]
  },
  {
   "cell_type": "code",
   "execution_count": null,
   "id": "a2981513-60e5-4604-8fee-235d898df378",
   "metadata": {},
   "outputs": [],
   "source": [
    "df_statistics_risk_std_3y = df_result[\"risk_std_3y\"].value_counts().sort_index(ascending=False)\n",
    "df_statistics_risk_std_1y = df_result[\"risk_std_1y\"].value_counts().sort_index(ascending=False)\n",
    "df_statistics_risk_var_3y = df_result[\"risk_var_3y\"].value_counts().sort_index(ascending=False)\n",
    "df_statistics = pd.concat([df_statistics_risk_std_3y, df_statistics_risk_std_1y, df_statistics_risk_var_3y], axis=1)\n",
    "df_statistics = df_statistics.rename(columns={\"risk_std_3y\": \"3년 표준편차\", \"risk_std_1y\": \"1년 표준편차\", \"risk_var_3y\": \"3년 VaR\"})\n",
    "df_statistics.style.background_gradient()"
   ]
  },
  {
   "cell_type": "code",
   "execution_count": null,
   "id": "2ecfd0b2-0548-41e1-a6ed-9abd2da5b7c8",
   "metadata": {},
   "outputs": [],
   "source": [
    "def show_values(axs, orient=\"v\", space=.01):\n",
    "    def _single(ax):\n",
    "        if orient == \"v\":\n",
    "            for p in ax.patches:\n",
    "                _x = p.get_x() + p.get_width() / 2\n",
    "                _y = p.get_y() + p.get_height() + (p.get_height()*0.01)\n",
    "                value = '{:d}'.format(int(p.get_height()))\n",
    "                ax.text(_x, _y, value, ha=\"center\") \n",
    "        elif orient == \"h\":\n",
    "            for p in ax.patches:\n",
    "                _x = p.get_x() + p.get_width() + float(space)\n",
    "                _y = p.get_y() + p.get_height() - (p.get_height()*0.5)\n",
    "                value = '{:d}'.format(int(p.get_width()))\n",
    "                ax.text(_x, _y, value, ha=\"left\")\n",
    "\n",
    "    if isinstance(axs, np.ndarray):\n",
    "        for idx, ax in np.ndenumerate(axs):\n",
    "            _single(ax)\n",
    "    else:\n",
    "        _single(axs)\n",
    "\n",
    "\n",
    "df_statistics_long = df_statistics\\\n",
    "    .reset_index()\\\n",
    "    .melt(id_vars=\"index\", value_vars=[\"3년 표준편차\", \"1년 표준편차\", \"3년 VaR\"], var_name=\"기준\")\\\n",
    "    .rename(columns={\"index\": \"등급\"})\n",
    "axis = sns.barplot(x=\"등급\", y=\"value\", hue=\"기준\", data=df_statistics_long)\n",
    "axis.set_title(f\"{typename} 펀드 위험등급 분포\")\n",
    "show_values(axis)"
   ]
  },
  {
   "cell_type": "markdown",
   "id": "1f9227c4-c788-429d-b8d4-fc278ba29d24",
   "metadata": {},
   "source": [
    "## 8. Export Statistics"
   ]
  },
  {
   "cell_type": "code",
   "execution_count": null,
   "id": "68fbd533-f46e-4cd6-9c35-28c3ae50830d",
   "metadata": {},
   "outputs": [],
   "source": [
    "df_statistics.to_csv(\"STATISTICS_\" + fname)"
   ]
  },
  {
   "cell_type": "code",
   "execution_count": null,
   "id": "fa0607ca-8fa0-4437-9fea-9e75a5ac5308",
   "metadata": {},
   "outputs": [],
   "source": []
  }
 ],
 "metadata": {
  "kernelspec": {
   "display_name": "Python 3 (ipykernel)",
   "language": "python",
   "name": "python3"
  },
  "language_info": {
   "codemirror_mode": {
    "name": "ipython",
    "version": 3
   },
   "file_extension": ".py",
   "mimetype": "text/x-python",
   "name": "python",
   "nbconvert_exporter": "python",
   "pygments_lexer": "ipython3",
   "version": "3.10.8"
  },
  "toc-autonumbering": true,
  "toc-showcode": false,
  "toc-showmarkdowntxt": false
 },
 "nbformat": 4,
 "nbformat_minor": 5
}
