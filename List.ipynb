{
 "cells": [
  {
   "cell_type": "code",
   "execution_count": 1,
   "id": "103faeb9-9c7b-46f1-8ddb-e8e438626b60",
   "metadata": {},
   "outputs": [],
   "source": [
    "%matplotlib inline"
   ]
  },
  {
   "cell_type": "code",
   "execution_count": 2,
   "id": "2ead0865-2adf-4384-9e33-e05ad2246056",
   "metadata": {},
   "outputs": [],
   "source": [
    "from glob import glob"
   ]
  },
  {
   "cell_type": "code",
   "execution_count": 3,
   "id": "1fc3f20b-7d1b-4a9b-88dd-d52945c0e0b7",
   "metadata": {},
   "outputs": [
    {
     "data": {
      "text/plain": [
       "['TYPE_10_채권형.csv',\n",
       " 'TYPE_11_MMF.csv',\n",
       " 'TYPE_20_주식형.csv',\n",
       " 'TYPE_21_주식혼합형.csv',\n",
       " 'TYPE_22_채권혼합형.csv',\n",
       " 'TYPE_23_절대수익추구형.csv',\n",
       " 'TYPE_24_부동산형.csv',\n",
       " 'TYPE_29_기타.csv',\n",
       " 'TYPE_50_해외채권형.csv',\n",
       " 'TYPE_60_해외주식형.csv',\n",
       " 'TYPE_61_해외주식혼합형.csv',\n",
       " 'TYPE_62_해외채권혼합형.csv',\n",
       " 'TYPE_63_해외멀티에셋형.csv',\n",
       " 'TYPE_64_해외부동산형.csv',\n",
       " 'TYPE_65_커머더티형.csv',\n",
       " 'TYPE_69_해외기타.csv']"
      ]
     },
     "execution_count": 3,
     "metadata": {},
     "output_type": "execute_result"
    }
   ],
   "source": [
    "fnames = glob(\"TYPE_??_*.csv\")\n",
    "fnames"
   ]
  },
  {
   "cell_type": "code",
   "execution_count": null,
   "id": "86e862ce-2827-48c6-9ec9-2bba6eafaeab",
   "metadata": {},
   "outputs": [],
   "source": []
  }
 ],
 "metadata": {
  "kernelspec": {
   "display_name": "Python 3 (ipykernel)",
   "language": "python",
   "name": "python3"
  },
  "language_info": {
   "codemirror_mode": {
    "name": "ipython",
    "version": 3
   },
   "file_extension": ".py",
   "mimetype": "text/x-python",
   "name": "python",
   "nbconvert_exporter": "python",
   "pygments_lexer": "ipython3",
   "version": "3.10.8"
  },
  "toc-autonumbering": true,
  "toc-showcode": false,
  "toc-showmarkdowntxt": false
 },
 "nbformat": 4,
 "nbformat_minor": 5
}
